{
 "cells": [
  {
   "cell_type": "code",
   "execution_count": null,
   "metadata": {
    "collapsed": true
   },
   "outputs": [],
   "source": [
    "import random\n",
    "import matplotlib.pyplot as plt\n",
    "x = range(2, 26, 2)  # x轴的位置\n",
    "y = [random.randint(15, 30) for i in x]\n",
    "plt.figure(figsize=(20, 8), dpi=80)\n",
    "# 不设置标签，就是默认的自增\n",
    "x_table = ['{}:00'.format(i) for i in x]\n",
    "plt.xticks(x, x_table, rotation=45)\n",
    "y_table = tuple('{}:00'.format(i) for i in y)\n",
    "plt.yticks(y, y_table)\n",
    "plt.plot(x, y)"
   ]
  },
  {
   "cell_type": "code",
   "execution_count": null,
   "outputs": [],
   "source": [
    "from matplotlib import font_manager\n",
    "\n",
    "x = range(0, 120)\n",
    "y = [random.randint(10, 30) for i in range(120)]\n",
    "plt.figure(figsize=(20, 8), dpi=80)\n",
    "plt.plot(x, y)\n",
    "# size是字的大小\n",
    "my_font = font_manager.FontProperties(fname='C:\\Windows\\Fonts\\STSONG.TTF', size=180)\n",
    "# 必须写fontproperties= my_font，不然显示的就是小方格\n",
    "plt.xlabel('时间', rotation=45, fontproperties=my_font)\n",
    "plt.ylabel('次数', fontproperties=my_font)\n",
    "plt.title('每分钟跳动次数', color='red', fontproperties=my_font)"
   ],
   "metadata": {
    "collapsed": false,
    "pycharm": {
     "name": "#%%\n"
    }
   }
  },
  {
   "cell_type": "code",
   "execution_count": null,
   "outputs": [],
   "source": [
    "y1 = [1, 0, 1, 1, 2, 4, 3, 4, 4, 5, 6, 5, 4, 3, 3, 1, 1, 1, 1, 1]\n",
    "y2 = [1, 0, 3, 1, 2, 2, 3, 4, 3, 2, 1, 2, 1, 1, 1, 1, 1, 1, 1, 1]\n",
    "\n",
    "x = range(11, 31)\n",
    "plt.figure(figsize=(20, 8), dpi=80)\n",
    "my_font = font_manager.FontProperties(fname='C:\\Windows\\Fonts\\STSONG.TTF', size=18)\n",
    "plt.plot(x, y1, label='小明')\n",
    "plt.plot(x, y2, label='小钱')\n",
    "x_label = ['{}岁'.format(i) for i in x]\n",
    "plt.xticks(x, x_label, fontproperties=my_font, rotation=45)\n",
    "plt.grid(alpha=0.4)\n",
    "plt.legend(prop=my_font, loc='upper right')"
   ],
   "metadata": {
    "collapsed": false,
    "pycharm": {
     "name": "#%%\n"
    }
   }
  },
  {
   "cell_type": "code",
   "execution_count": null,
   "outputs": [],
   "source": [
    "# 横着分为两块，竖着分了两块，总共四块\n",
    "a, axes = plt.subplots(2, 2)\n",
    "ax1 = axes[0, 0]\n",
    "ax2 = axes[0, 1]\n",
    "ax3 = axes[1, 0]\n",
    "ax4 = axes[1, 1]\n",
    "# 总图大小\n",
    "fig = plt.figure(figsize=(20, 8), dpi = 80)\n",
    "x = [i for i in range(100)]\n",
    "ax1.plot(x, x)"
   ],
   "metadata": {
    "collapsed": false,
    "pycharm": {
     "name": "#%%\n"
    }
   }
  },
  {
   "cell_type": "code",
   "execution_count": null,
   "outputs": [],
   "source": [
    "x = [i for i in range(100)]\n",
    "y = [i**2 for i in range(100)]\n",
    "fig = plt.figure(figsize=(20, 10), dpi=80)\n",
    "# means split the picture to four parts, and get NO.1\n",
    "ax1 = fig.add_subplot(2, 2, 1)\n",
    "ax2 = fig.add_subplot(2, 2, 2)\n",
    "ax3 = fig.add_subplot(2, 2, 3)\n",
    "ax14= fig.add_subplot(2, 2, 4)\n",
    "ax1.plot(x, x)\n",
    "ax2.plot(x, y)\n",
    "ax3.plot(y, x)\n",
    "ax4.plot(y, y)"
   ],
   "metadata": {
    "collapsed": false,
    "pycharm": {
     "name": "#%%\n"
    }
   }
  },
  {
   "cell_type": "code",
   "execution_count": null,
   "outputs": [],
   "source": [
    "y = [11, 17, 16, 11, 12, 11, 12, 6, 6, 7, 8, 9, 12, 15, 14, 17, 18, 21, 16, 17, 20, 14,\n",
    "15, 15, 15, 19, 21, 22, 22, 22,\n",
    "23]\n",
    "x = range( 1, 32 )\n",
    "plt.figure(figsize=(20, 8),dpi=80)\n",
    "plt.scatter(x, y, label = 'April')\n",
    "my_font = font_manager.FontProperties( fname='C:\\Windows\\Fonts\\STSONG.TTF', size=10 )\n",
    "x_label = ['3月{}日'.format(i) for i in x]\n",
    "# 做切片\n",
    "plt.xticks(x[::3], x_label[::3], fontproperties = my_font, rotation = 45)\n",
    "plt.xlabel('日期', fontproperties = my_font)\n",
    "plt.ylabel('温度', fontproperties = my_font)\n",
    "plt.legend(prop = my_font)"
   ],
   "metadata": {
    "collapsed": false,
    "pycharm": {
     "name": "#%%\n"
    }
   }
  },
  {
   "cell_type": "code",
   "execution_count": null,
   "outputs": [],
   "source": [
    "my_font = font_manager.FontProperties(fname='C:\\Windows\\Fonts\\STSONG.TTF',size=16)\n",
    "a = ['流浪地球','疯狂的外星人','飞驰人生','大黄蜂','熊出没·原始时代','新喜剧之王']\n",
    "b = [38.13,19.85,14.89,11.36,6.47,5.93]\n",
    "plt.figure(figsize=(20,8),dpi=80)\n",
    "reacts = plt.bar(range(len(a)), b, width = 0.3)\n",
    "# rect就是每个柱子对象\n",
    "for rect in reacts:\n",
    "    height = rect.get_height()\n",
    "    # 横坐标，纵坐标，内容，ha = 'center'代表将添加的文本放在中间，可以是left/right可以放在不同的位置\n",
    "    plt.text(rect.get_x() + rect.get_width() / 2, height+0.3, str(height),ha=\"center\")\n",
    "plt.xticks(range(len(a)), a, fontproperties = my_font)\n",
    "plt.legend(prop = my_font)"
   ],
   "metadata": {
    "collapsed": false,
    "pycharm": {
     "name": "#%%\n"
    }
   }
  },
  {
   "cell_type": "code",
   "execution_count": null,
   "outputs": [],
   "source": [
    "time = [131, 98, 125, 131, 124, 139, 131, 117, 128, 108, 135, 138, 131, 102,\n",
    "107, 114,\n",
    "119, 128, 121, 142, 127, 130, 124, 101, 110, 116, 117, 110, 128, 128, 115,\n",
    "99,\n",
    "136, 126, 134, 95, 138, 117, 111,78, 132, 124, 113, 150, 110, 117, 86,\n",
    "95, 144,\n",
    "105, 126, 130,126, 130, 126, 116, 123, 106, 112, 138, 123, 86, 101, 99, 136,123,\n",
    "117, 119, 105, 137, 123, 128, 125, 104, 109, 134, 125, 127,105, 120, 107, 129,\n",
    "116,\n",
    "108, 132, 103, 136, 118, 102, 120, 114,105, 115, 132, 145, 119, 121, 112, 139,\n",
    "125,\n",
    "138, 109, 132, 134,156, 106, 117, 127, 144, 139, 139, 119, 140, 83, 110,\n",
    "102,123,\n",
    "107, 143, 115, 136, 118, 139, 123, 112, 118, 125, 109, 119, 133,112, 114, 122,\n",
    "109,\n",
    "106, 123, 116, 131, 127, 115, 118, 112, 135,115, 146, 137, 116, 103,\n",
    "144, 83, 123,\n",
    "111, 110, 111, 100, 154,136, 100, 118, 119, 133, 134, 106, 129, 126,\n",
    "110, 111, 109,\n",
    "141,120, 117, 106, 149, 122, 122, 110, 118, 127, 121, 114, 125, 126,114, 140, 103,\n",
    "130, 141, 117, 106, 114, 121, 114, 133, 137, 92,121, 112, 146, 97, 137,\n",
    "105, 98,\n",
    "117, 112, 81, 97, 139, 113,134, 106, 144, 110, 137, 137, 111, 104, 117,\n",
    "100, 111,\n",
    "101, 110,105, 129, 137, 112, 120, 113, 133, 112, 83, 94, 146, 133,\n",
    "101,131, 116,\n",
    "111, 84, 137, 115, 122, 106, 144, 109, 123, 116, 111,111, 133, 150]\n",
    "my_font = font_manager.FontProperties(fname='C:\\Windows\\Fonts\\STSONG.TTF',size=18)\n",
    "plt.figure(figsize=(20, 8), dpi=80)\n",
    "# 每个柱形占多少\n",
    "distance = 2\n",
    "group_num = int((max(time) - min(time))/distance)\n",
    "plt.hist(time, bins=group_num)\n",
    "plt.xticks(range(min(time), max(time))[::2])\n",
    "plt.grid(alpha = 0.4)\n",
    "plt.xlabel(\"电影时长大小\",fontproperties=my_font)\n",
    "plt.ylabel(\"电影的数据量\",fontproperties=my_font)"
   ],
   "metadata": {
    "collapsed": false,
    "pycharm": {
     "name": "#%%\n"
    }
   }
  },
  {
   "cell_type": "code",
   "execution_count": null,
   "outputs": [],
   "source": [
    "import matplotlib\n",
    "label_list = [\"第一部分\", \"第二部分\", \"第三部分\"]\n",
    "# 各部分标签\n",
    "size = [55, 35, 10]\n",
    "# 各部分大小,按比例\n",
    "color = [\"black\", \"white\", \"gray\"]\n",
    "# 各部分颜色\n",
    "explode = [0, 0.05, 0]\n",
    "# 各部分突出值\n",
    "# 下面是为了显示中文，因为再pie里没有fontproperties这个参数，所以只有用这种方法\n",
    "matplotlib.rcParams['font.sans-serif']=['SimHei']\n",
    "patches, l_text, p_text = plt.pie(size,explode=explode, colors=color, labels=label_list,\n",
    "labeldistance=1.1, autopct=\"%1.1f%%\", shadow=False,\n",
    "startangle=90, pctdistance=0.6)\n",
    "plt.axis(\"equal\")\n",
    "# 设置横轴和纵轴大小相等，这样饼才是圆的\n",
    "plt.legend()"
   ],
   "metadata": {
    "collapsed": false,
    "pycharm": {
     "name": "#%%\n"
    }
   }
  },
  {
   "cell_type": "code",
   "execution_count": null,
   "outputs": [],
   "source": [
    "import time\n",
    "import numpy as np\n",
    "\n",
    "info_list = [i for i in range(1000000)]\n",
    "atime = time.time()\n",
    "print(sum(info_list))\n",
    "btime = time.time()\n",
    "print(btime-atime)\n",
    "info_array = np.array(info_list)\n",
    "ctime = time.time()\n",
    "print(np.sum(info_array))\n",
    "dtime = time.time()\n",
    "print(dtime-ctime)"
   ],
   "metadata": {
    "collapsed": false,
    "pycharm": {
     "name": "#%%\n"
    }
   }
  },
  {
   "cell_type": "code",
   "execution_count": null,
   "outputs": [],
   "source": [
    "info_list = [1, 2, 3, 4]\n",
    "info_array = np.array(info_list)\n",
    "print(info_array.ndim)\n",
    "print(info_array.shape)\n",
    "print(info_array.size)"
   ],
   "metadata": {
    "collapsed": false,
    "pycharm": {
     "name": "#%%\n"
    }
   }
  },
  {
   "cell_type": "code",
   "execution_count": null,
   "outputs": [],
   "source": [
    "info_array = np.arange(10)\n",
    "print(info_array)"
   ],
   "metadata": {
    "collapsed": false,
    "pycharm": {
     "name": "#%%\n"
    }
   }
  },
  {
   "cell_type": "code",
   "execution_count": null,
   "outputs": [],
   "source": [
    "info_array = np.array([[1, 2], [3, 4], [5, 6]])\n",
    "print(info_array)\n",
    "print(info_array.ndim)\n",
    "print(info_array.shape)\n",
    "print(info_array.size)"
   ],
   "metadata": {
    "collapsed": false,
    "pycharm": {
     "name": "#%%\n"
    }
   }
  },
  {
   "cell_type": "code",
   "execution_count": null,
   "outputs": [],
   "source": [
    "info_array = np.array([[1, 2], [3, 4], [5, 6]])\n",
    "info_array.shape = (6,)\n",
    "print(info_array)\n",
    "print(info_array.reshape(2, 3))\n"
   ],
   "metadata": {
    "collapsed": false,
    "pycharm": {
     "name": "#%%\n"
    }
   }
  },
  {
   "cell_type": "code",
   "execution_count": null,
   "outputs": [],
   "source": [
    "info_array = np.array([[1, 2], [3, 4], [5, 6]])\n",
    "info_list = info_array.tolist()\n",
    "print(info_list)\n"
   ],
   "metadata": {
    "collapsed": false,
    "pycharm": {
     "name": "#%%\n"
    }
   }
  }
 ],
 "metadata": {
  "kernelspec": {
   "display_name": "Python 3",
   "language": "python",
   "name": "python3"
  },
  "language_info": {
   "codemirror_mode": {
    "name": "ipython",
    "version": 2
   },
   "file_extension": ".py",
   "mimetype": "text/x-python",
   "name": "python",
   "nbconvert_exporter": "python",
   "pygments_lexer": "ipython2",
   "version": "2.7.6"
  }
 },
 "nbformat": 4,
 "nbformat_minor": 0
}