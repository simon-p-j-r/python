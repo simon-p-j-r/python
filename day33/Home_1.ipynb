{
 "cells": [
  {
   "cell_type": "code",
   "execution_count": null,
   "metadata": {
    "collapsed": true
   },
   "outputs": [],
   "source": [
    "import random\n",
    "import matplotlib.pyplot as plt\n",
    "x = range(2, 26, 2)  # x轴的位置\n",
    "y = [random.randint(15, 30) for i in x]\n",
    "plt.figure(figsize=(20, 8), dpi=80)\n",
    "# 不设置标签，就是默认的自增\n",
    "x_table = ['{}:00'.format(i) for i in x]\n",
    "plt.xticks(x, x_table, rotation=45)\n",
    "y_table = tuple('{}:00'.format(i) for i in y)\n",
    "plt.yticks(y, y_table)\n",
    "plt.plot(x, y)"
   ]
  },
  {
   "cell_type": "code",
   "execution_count": null,
   "outputs": [],
   "source": [
    "from matplotlib import font_manager\n",
    "\n",
    "x = range(0, 120)\n",
    "y = [random.randint(10, 30) for i in range(120)]\n",
    "plt.figure(figsize=(20, 8), dpi=80)\n",
    "plt.plot(x, y)\n",
    "# size是字的大小\n",
    "my_font = font_manager.FontProperties(fname='C:\\Windows\\Fonts\\STSONG.TTF', size=180)\n",
    "# 必须写fontproperties= my_font，不然显示的就是小方格\n",
    "plt.xlabel('时间', rotation=45, fontproperties=my_font)\n",
    "plt.ylabel('次数', fontproperties=my_font)\n",
    "plt.title('每分钟跳动次数', color='red', fontproperties=my_font)"
   ],
   "metadata": {
    "collapsed": false,
    "pycharm": {
     "name": "#%%\n"
    }
   }
  },
  {
   "cell_type": "code",
   "execution_count": null,
   "outputs": [],
   "source": [
    "y1 = [1, 0, 1, 1, 2, 4, 3, 4, 4, 5, 6, 5, 4, 3, 3, 1, 1, 1, 1, 1]\n",
    "y2 = [1, 0, 3, 1, 2, 2, 3, 4, 3, 2, 1, 2, 1, 1, 1, 1, 1, 1, 1, 1]\n",
    "\n",
    "x = range(11, 31)\n",
    "plt.figure(figsize=(20, 8), dpi=80)\n",
    "my_font = font_manager.FontProperties(fname='C:\\Windows\\Fonts\\STSONG.TTF', size=18)\n",
    "plt.plot(x, y1, label='小明')\n",
    "plt.plot(x, y2, label='小钱')\n",
    "x_label = ['{}岁'.format(i) for i in x]\n",
    "plt.xticks(x, x_label, fontproperties=my_font, rotation=45)\n",
    "plt.grid(alpha=0.4)\n",
    "plt.legend(prop=my_font, loc='upper right')"
   ],
   "metadata": {
    "collapsed": false,
    "pycharm": {
     "name": "#%%\n"
    }
   }
  },
  {
   "cell_type": "code",
   "execution_count": null,
   "outputs": [],
   "source": [
    "# 横着分为两块，竖着分了两块，总共四块\n",
    "a, axes = plt.subplots(2, 2)\n",
    "ax1 = axes[0, 0]\n",
    "ax2 = axes[0, 1]\n",
    "ax3 = axes[1, 0]\n",
    "ax4 = axes[1, 1]\n",
    "# 总图大小\n",
    "fig = plt.figure(figsize=(20, 8), dpi = 80)\n",
    "x = [i for i in range(100)]\n",
    "ax1.plot(x, x)"
   ],
   "metadata": {
    "collapsed": false,
    "pycharm": {
     "name": "#%%\n"
    }
   }
  },
  {
   "cell_type": "code",
   "execution_count": null,
   "outputs": [],
   "source": [
    "x = [i for i in range(100)]\n",
    "y = [i**2 for i in range(100)]\n",
    "fig = plt.figure(figsize=(20, 10), dpi=80)\n",
    "# means split the picture to four parts, and get NO.1\n",
    "ax1 = fig.add_subplot(2, 2, 1)\n",
    "ax2 = fig.add_subplot(2, 2, 2)\n",
    "ax3 = fig.add_subplot(2, 2, 3)\n",
    "ax14= fig.add_subplot(2, 2, 4)\n",
    "ax1.plot(x, x)\n",
    "ax2.plot(x, y)\n",
    "ax3.plot(y, x)\n",
    "ax4.plot(y, y)"
   ],
   "metadata": {
    "collapsed": false,
    "pycharm": {
     "name": "#%%\n"
    }
   }
  },
  {
   "cell_type": "code",
   "execution_count": null,
   "outputs": [],
   "source": [
    "y = [11, 17, 16, 11, 12, 11, 12, 6, 6, 7, 8, 9, 12, 15, 14, 17, 18, 21, 16, 17, 20, 14,\n",
    "15, 15, 15, 19, 21, 22, 22, 22,\n",
    "23]\n",
    "x = range( 1, 32 )\n",
    "plt.figure(figsize=(20, 8),dpi=80)\n",
    "plt.scatter(x, y, label = 'April')\n",
    "my_font = font_manager.FontProperties( fname='C:\\Windows\\Fonts\\STSONG.TTF', size=10 )\n",
    "x_label = ['3月{}日'.format(i) for i in x]\n",
    "# 做切片\n",
    "plt.xticks(x[::3], x_label[::3], fontproperties = my_font, rotation = 45)\n",
    "plt.xlabel('日期', fontproperties = my_font)\n",
    "plt.ylabel('温度', fontproperties = my_font)\n",
    "plt.legend(prop = my_font)"
   ],
   "metadata": {
    "collapsed": false,
    "pycharm": {
     "name": "#%%\n"
    }
   }
  },
  {
   "cell_type": "code",
   "execution_count": null,
   "outputs": [],
   "source": [
    "my_font = font_manager.FontProperties(fname='C:\\Windows\\Fonts\\STSONG.TTF',size=16)\n",
    "a = ['流浪地球','疯狂的外星人','飞驰人生','大黄蜂','熊出没·原始时代','新喜剧之王']\n",
    "b = [38.13,19.85,14.89,11.36,6.47,5.93]\n",
    "plt.figure(figsize=(20,8),dpi=80)\n",
    "reacts = plt.bar(range(len(a)), b, width = 0.3)\n",
    "# rect就是每个柱子对象\n",
    "for rect in reacts:\n",
    "    height = rect.get_height()\n",
    "    # 横坐标，纵坐标，内容，ha = 'center'代表将添加的文本放在中间，可以是left/right可以放在不同的位置\n",
    "    plt.text(rect.get_x() + rect.get_width() / 2, height+0.3, str(height),ha=\"center\")\n",
    "plt.xticks(range(len(a)), a, fontproperties = my_font)\n",
    "plt.legend(prop = my_font)"
   ],
   "metadata": {
    "collapsed": false,
    "pycharm": {
     "name": "#%%\n"
    }
   }
  },
  {
   "cell_type": "code",
   "execution_count": null,
   "outputs": [],
   "source": [
    "time = [131, 98, 125, 131, 124, 139, 131, 117, 128, 108, 135, 138, 131, 102,\n",
    "107, 114,\n",
    "119, 128, 121, 142, 127, 130, 124, 101, 110, 116, 117, 110, 128, 128, 115,\n",
    "99,\n",
    "136, 126, 134, 95, 138, 117, 111,78, 132, 124, 113, 150, 110, 117, 86,\n",
    "95, 144,\n",
    "105, 126, 130,126, 130, 126, 116, 123, 106, 112, 138, 123, 86, 101, 99, 136,123,\n",
    "117, 119, 105, 137, 123, 128, 125, 104, 109, 134, 125, 127,105, 120, 107, 129,\n",
    "116,\n",
    "108, 132, 103, 136, 118, 102, 120, 114,105, 115, 132, 145, 119, 121, 112, 139,\n",
    "125,\n",
    "138, 109, 132, 134,156, 106, 117, 127, 144, 139, 139, 119, 140, 83, 110,\n",
    "102,123,\n",
    "107, 143, 115, 136, 118, 139, 123, 112, 118, 125, 109, 119, 133,112, 114, 122,\n",
    "109,\n",
    "106, 123, 116, 131, 127, 115, 118, 112, 135,115, 146, 137, 116, 103,\n",
    "144, 83, 123,\n",
    "111, 110, 111, 100, 154,136, 100, 118, 119, 133, 134, 106, 129, 126,\n",
    "110, 111, 109,\n",
    "141,120, 117, 106, 149, 122, 122, 110, 118, 127, 121, 114, 125, 126,114, 140, 103,\n",
    "130, 141, 117, 106, 114, 121, 114, 133, 137, 92,121, 112, 146, 97, 137,\n",
    "105, 98,\n",
    "117, 112, 81, 97, 139, 113,134, 106, 144, 110, 137, 137, 111, 104, 117,\n",
    "100, 111,\n",
    "101, 110,105, 129, 137, 112, 120, 113, 133, 112, 83, 94, 146, 133,\n",
    "101,131, 116,\n",
    "111, 84, 137, 115, 122, 106, 144, 109, 123, 116, 111,111, 133, 150]\n",
    "my_font = font_manager.FontProperties(fname='C:\\Windows\\Fonts\\STSONG.TTF',size=18)\n",
    "plt.figure(figsize=(20, 8), dpi=80)\n",
    "# 每个柱形占多少\n",
    "distance = 2\n",
    "group_num = int((max(time) - min(time))/distance)\n",
    "plt.hist(time, bins=group_num)\n",
    "plt.xticks(range(min(time), max(time))[::2])\n",
    "plt.grid(alpha = 0.4)\n",
    "plt.xlabel(\"电影时长大小\",fontproperties=my_font)\n",
    "plt.ylabel(\"电影的数据量\",fontproperties=my_font)"
   ],
   "metadata": {
    "collapsed": false,
    "pycharm": {
     "name": "#%%\n"
    }
   }
  },
  {
   "cell_type": "code",
   "execution_count": null,
   "outputs": [],
   "source": [
    "import matplotlib\n",
    "label_list = [\"第一部分\", \"第二部分\", \"第三部分\"]\n",
    "# 各部分标签\n",
    "size = [55, 35, 10]\n",
    "# 各部分大小,按比例\n",
    "color = [\"black\", \"white\", \"gray\"]\n",
    "# 各部分颜色\n",
    "explode = [0, 0.05, 0]\n",
    "# 各部分突出值\n",
    "# 下面是为了显示中文，因为再pie里没有fontproperties这个参数，所以只有用这种方法\n",
    "matplotlib.rcParams['font.sans-serif']=['SimHei']\n",
    "patches, l_text, p_text = plt.pie(size,explode=explode, colors=color, labels=label_list,\n",
    "labeldistance=1.1, autopct=\"%1.1f%%\", shadow=False,\n",
    "startangle=90, pctdistance=0.6)\n",
    "plt.axis(\"equal\")\n",
    "# 设置横轴和纵轴大小相等，这样饼才是圆的\n",
    "plt.legend()"
   ],
   "metadata": {
    "collapsed": false,
    "pycharm": {
     "name": "#%%\n"
    }
   }
  },
  {
   "cell_type": "code",
   "execution_count": null,
   "outputs": [],
   "source": [
    "import time\n",
    "import numpy as np\n",
    "\n",
    "info_list = [i for i in range(1000000)]\n",
    "atime = time.time()\n",
    "print(sum(info_list))\n",
    "btime = time.time()\n",
    "print(btime-atime)\n",
    "info_array = np.array(info_list)\n",
    "ctime = time.time()\n",
    "print(np.sum(info_array))\n",
    "dtime = time.time()\n",
    "print(dtime-ctime)"
   ],
   "metadata": {
    "collapsed": false,
    "pycharm": {
     "name": "#%%\n"
    }
   }
  },
  {
   "cell_type": "code",
   "execution_count": null,
   "outputs": [],
   "source": [
    "info_list = [1, 2, 3, 4]\n",
    "info_array = np.array(info_list)\n",
    "print(info_array.ndim)\n",
    "print(info_array.shape)\n",
    "print(info_array.size)"
   ],
   "metadata": {
    "collapsed": false,
    "pycharm": {
     "name": "#%%\n"
    }
   }
  },
  {
   "cell_type": "code",
   "execution_count": null,
   "outputs": [],
   "source": [
    "info_array = np.arange(10)\n",
    "print(info_array)"
   ],
   "metadata": {
    "collapsed": false,
    "pycharm": {
     "name": "#%%\n"
    }
   }
  },
  {
   "cell_type": "code",
   "execution_count": 2,
   "outputs": [
    {
     "name": "stdout",
     "output_type": "stream",
     "text": [
      "[[1 2]\n",
      " [3 4]\n",
      " [5 6]]\n",
      "2\n",
      "(3, 2)\n",
      "6\n"
     ]
    }
   ],
   "source": [
    "import numpy as np\n",
    "info_array = np.array([[1, 2], [3, 4], [5, 6]])\n",
    "print(info_array)\n",
    "print(info_array.ndim)\n",
    "print(info_array.shape)\n",
    "print(info_array.size)"
   ],
   "metadata": {
    "collapsed": false,
    "pycharm": {
     "name": "#%%\n"
    }
   }
  },
  {
   "cell_type": "code",
   "execution_count": null,
   "outputs": [],
   "source": [
    "info_array = np.array([[1, 2], [3, 4], [5, 6]])\n",
    "info_array.shape = (6,)\n",
    "print(info_array)\n",
    "print(info_array.reshape(2, 3))\n"
   ],
   "metadata": {
    "collapsed": false,
    "pycharm": {
     "name": "#%%\n"
    }
   }
  },
  {
   "cell_type": "code",
   "execution_count": null,
   "outputs": [],
   "source": [
    "info_array = np.array([[1, 2], [3, 4], [5, 6]])\n",
    "info_list = info_array.tolist()\n",
    "print(info_list)"
   ],
   "metadata": {
    "collapsed": false,
    "pycharm": {
     "name": "#%%\n"
    }
   }
  },
  {
   "cell_type": "code",
   "execution_count": 6,
   "outputs": [
    {
     "name": "stdout",
     "output_type": "stream",
     "text": [
      "[[[ 0  1  2]\n",
      "  [ 3  4  5]\n",
      "  [ 6  7  8]]\n",
      "\n",
      " [[ 9 10 11]\n",
      "  [12 13 14]\n",
      "  [15 16 17]]\n",
      "\n",
      " [[18 19 20]\n",
      "  [21 22 23]\n",
      "  [24 25 26]]]\n",
      "[[ 0  1  2  3  4  5 12 13 14 15 16 17]\n",
      " [ 6  7  8  9 10 11 18 19 20 21 22 23]]\n"
     ]
    }
   ],
   "source": [
    "info = np.arange(27).reshape(3,3,3)\n",
    "print(info)\n",
    "v1 = [[0,1,2,3,4,5],\n",
    "[6,7,8,9,10,11]]\n",
    "v2 = [[12,13,14,15,16,17],\n",
    "[18,19,20,21,22,23]]\n",
    "result = np.hstack((v1,v2))\n",
    "print(result)"
   ],
   "metadata": {
    "collapsed": false,
    "pycharm": {
     "name": "#%%\n"
    }
   }
  },
  {
   "cell_type": "code",
   "execution_count": 17,
   "outputs": [
    {
     "name": "stdout",
     "output_type": "stream",
     "text": [
      "[[1 2 3]\n",
      " [4 5 6]]\n",
      "[[1 2]\n",
      " [3 4]\n",
      " [5 6]]\n"
     ]
    }
   ],
   "source": [
    "import numpy as np\n",
    "a = np.array([[1,2,3],[4,5,6]])\n",
    "print(a)\n",
    "print(a.reshape(3,2))"
   ],
   "metadata": {
    "collapsed": false,
    "pycharm": {
     "name": "#%%\n"
    }
   }
  },
  {
   "cell_type": "code",
   "execution_count": 27,
   "outputs": [
    {
     "name": "stdout",
     "output_type": "stream",
     "text": [
      "120\n",
      "[[[[ 0  1]\n",
      "   [ 2  3]]\n",
      "\n",
      "  [[ 4  5]\n",
      "   [ 6  7]]]\n",
      "\n",
      "\n",
      " [[[ 8  9]\n",
      "   [10 11]]\n",
      "\n",
      "  [[12 13]\n",
      "   [14 15]]]]\n",
      "--------------------\n",
      "[[[ 8 10]\n",
      "  [12 14]]\n",
      "\n",
      " [[16 18]\n",
      "  [20 22]]]\n",
      "--------------------\n",
      "[[[ 2  4]\n",
      "  [10 12]]\n",
      "\n",
      " [[18 20]\n",
      "  [26 28]]]\n",
      "--------------------\n",
      "[[[ 4  6]\n",
      "  [ 8 10]]\n",
      "\n",
      " [[20 22]\n",
      "  [24 26]]]\n"
     ]
    }
   ],
   "source": [
    "a=np.arange(16).reshape((2,2,2,2))\n",
    "print(np.sum(a))\n",
    "print(a)\n",
    "b=np.sum(a, axis=0)\n",
    "print(\"-\"*20)\n",
    "print(b)\n",
    "print(\"-\"*20)\n",
    "b=np.sum(a, axis=2)\n",
    "print(b)\n",
    "print(\"-\"*20)\n",
    "b=np.sum(a, axis=1)\n",
    "print(b)"
   ],
   "metadata": {
    "collapsed": false,
    "pycharm": {
     "name": "#%%\n"
    }
   }
  },
  {
   "cell_type": "code",
   "execution_count": 24,
   "outputs": [
    {
     "name": "stdout",
     "output_type": "stream",
     "text": [
      "[[ 0  1  2  3  4  5]\n",
      " [12 13 14 15 16 17]\n",
      " [18 19 20 21 22 23]]\n",
      "[[ 0  1  2  3  4  5]\n",
      " [ 6  7  8  9 10 11]\n",
      " [12 13 14 15 16 17]]\n",
      "[[ 6  7  8  9 10 11]\n",
      " [12 13 14 15 16 17]\n",
      " [ 0  1  2  3  4  5]]\n",
      "[[ 0]\n",
      " [12]]\n"
     ]
    }
   ],
   "source": [
    "t1 = np.arange(24).reshape(4,6)\n",
    "print(t1[[0,2,3]])# 取不连续的多行\n",
    "print(t1[0:3])\n",
    "print(t1[[1,2,0]])\n",
    "print(t1[[0,2],0:1])"
   ],
   "metadata": {
    "collapsed": false,
    "pycharm": {
     "name": "#%%\n"
    }
   }
  },
  {
   "cell_type": "code",
   "execution_count": 28,
   "outputs": [
    {
     "name": "stdout",
     "output_type": "stream",
     "text": [
      "第一个数组：\n",
      "[[1 2 3]\n",
      " [4 5 6]]\n",
      "\n",
      "\n",
      " 向 数 组 添 加 元 素 ：\n",
      "[1 2 3 4 5 6 7 8 9]\n",
      "\n",
      "\n",
      "沿轴 0 添加元素：\n",
      "[[1 2 3]\n",
      " [4 5 6]\n",
      " [7 8 9]]\n",
      "\n",
      "\n",
      "沿轴 1 添加元素：\n",
      "[[1 2 3 5 5 5]\n",
      " [4 5 6 7 8 9]]\n"
     ]
    }
   ],
   "source": [
    "a = np.array([[1, 2, 3], [4, 5, 6]])\n",
    "print('第一个数组：')\n",
    "print(a)\n",
    "print('\\n')\n",
    "print(' 向 数 组 添 加 元 素 ：')\n",
    "print(np.append(a, [7, 8, 9]))\n",
    "print('\\n')\n",
    "print('沿轴 0 添加元素：')\n",
    "print(np.append(a, [[7, 8, 9]], axis=0))\n",
    "print('\\n')\n",
    "print('沿轴 1 添加元素：')\n",
    "print(np.append(a, [[5, 5, 5], [7, 8, 9]], axis=1))"
   ],
   "metadata": {
    "collapsed": false,
    "pycharm": {
     "name": "#%%\n"
    }
   }
  },
  {
   "cell_type": "code",
   "execution_count": 29,
   "outputs": [
    {
     "name": "stdout",
     "output_type": "stream",
     "text": [
      "沿轴 0 广播：\n",
      "[[ 1  2]\n",
      " [11 11]\n",
      " [ 3  4]\n",
      " [ 5  6]]\n",
      "\n",
      "\n",
      "沿轴 1 广播：\n",
      "[[ 1 11  2]\n",
      " [ 3 11  4]\n",
      " [ 5 11  6]]\n"
     ]
    }
   ],
   "source": [
    "a = np.array([[1, 2], [3, 4], [5, 6]])\n",
    "print('沿轴 0 广播：')\n",
    "print(np.insert(a, 1, [11], axis=0))\n",
    "print('\\n')\n",
    "print('沿轴 1 广播：')\n",
    "print(np.insert(a, 1, 11, axis=1))"
   ],
   "metadata": {
    "collapsed": false,
    "pycharm": {
     "name": "#%%\n"
    }
   }
  },
  {
   "cell_type": "code",
   "execution_count": 32,
   "outputs": [
    {
     "name": "stdout",
     "output_type": "stream",
     "text": [
      "[[1 2]\n",
      " [3 4]\n",
      " [5 6]\n",
      " [7 8]]\n",
      "\n",
      "\n",
      "沿轴 1 连接两个数组：\n",
      "[[1 2 5 6]\n",
      " [3 4 7 8]]\n",
      "沿轴 0 连接两个数组：\n",
      "[[[1 2]\n",
      "  [3 4]]\n",
      "\n",
      " [[5 6]\n",
      "  [7 8]]]\n",
      "\n",
      "\n",
      "沿轴 1 连接两个数组：\n",
      "[[[1 2]\n",
      "  [5 6]]\n",
      "\n",
      " [[3 4]\n",
      "  [7 8]]]\n"
     ]
    }
   ],
   "source": [
    "a = np.array([[1,2],[3,4]])\n",
    "b = np.array([[5,6],[7,8]])\n",
    "# 要求 a,b 两个数组的维度相同\n",
    "# print ('沿轴 0 连接两个数组：')\n",
    "print (np.concatenate((a,b),axis= 0))\n",
    "print ('\\n')\n",
    "print ('沿轴 1 连接两个数组：')\n",
    "print (np.concatenate((a,b),axis = 1))\n",
    "print ('沿轴 0 连接两个数组：')\n",
    "print (np.stack((a,b),axis= 0))\n",
    "print ('\\n')\n",
    "print ('沿轴 1 连接两个数组：')\n",
    "print (np.stack((a,b),axis = 1))"
   ],
   "metadata": {
    "collapsed": false,
    "pycharm": {
     "name": "#%%\n"
    }
   }
  },
  {
   "cell_type": "code",
   "execution_count": 33,
   "outputs": [
    {
     "name": "stdout",
     "output_type": "stream",
     "text": [
      "[[ 0  1  2  3  4  5]\n",
      " [ 6  7  8  9 10 11]\n",
      " [12 13 14 15 16 17]\n",
      " [18 19 20 21 22 23]]\n"
     ]
    }
   ],
   "source": [
    "v1 = [[0,1,2,3,4,5],\n",
    "[6,7,8,9,10,11]]\n",
    "v2 = [[12,13,14,15,16,17],\n",
    "[18,19,20,21,22,23]]\n",
    "result = np.vstack((v1,v2))\n",
    "print(result)"
   ],
   "metadata": {
    "collapsed": false,
    "pycharm": {
     "name": "#%%\n"
    }
   }
  },
  {
   "cell_type": "code",
   "execution_count": 34,
   "outputs": [
    {
     "name": "stdout",
     "output_type": "stream",
     "text": [
      "[[ 0  1  2  3  4  5 12 13 14 15 16 17]\n",
      " [ 6  7  8  9 10 11 18 19 20 21 22 23]]\n"
     ]
    }
   ],
   "source": [
    "v1 = [[0,1,2,3,4,5],\n",
    "[6,7,8,9,10,11]]\n",
    "v2 = [[12,13,14,15,16,17],\n",
    "[18,19,20,21,22,23]]\n",
    "result = np.hstack((v1,v2))\n",
    "print(result)"
   ],
   "metadata": {
    "collapsed": false,
    "pycharm": {
     "name": "#%%\n"
    }
   }
  },
  {
   "cell_type": "code",
   "execution_count": 35,
   "outputs": [
    {
     "name": "stdout",
     "output_type": "stream",
     "text": [
      "将数组分为三个大小相等的子数组：\n",
      "[array([[0, 1, 2]]), array([[3, 4, 5]]), array([[6, 7, 8]])]\n"
     ]
    }
   ],
   "source": [
    "arr = np.arange(9).reshape(3,3)\n",
    "print ('将数组分为三个大小相等的子数组：')\n",
    "b = np.split(arr,3)\n",
    "print (b)"
   ],
   "metadata": {
    "collapsed": false,
    "pycharm": {
     "name": "#%%\n"
    }
   }
  },
  {
   "cell_type": "code",
   "execution_count": 38,
   "outputs": [
    {
     "name": "stdout",
     "output_type": "stream",
     "text": [
      "原 array：\n",
      "[[3. 8. 4. 1. 3. 3.]\n",
      " [6. 2. 4. 2. 1. 1.]]\n",
      "拆分后：\n",
      "[array([[3., 8., 4.],\n",
      "       [6., 2., 4.]]), array([[1., 3., 3.],\n",
      "       [2., 1., 1.]])]\n"
     ]
    }
   ],
   "source": [
    "harr = np.floor(10*np.random.random((2, 6)))\n",
    "print ('原 array：')\n",
    "print(harr)\n",
    "print ('拆分后：')\n",
    "print(np.hsplit(harr, 2))"
   ],
   "metadata": {
    "collapsed": false,
    "pycharm": {
     "name": "#%%\n"
    }
   }
  },
  {
   "cell_type": "code",
   "execution_count": 56,
   "outputs": [
    {
     "name": "stdout",
     "output_type": "stream",
     "text": [
      "[[ 0.  1.  2.  3.  4.  5.]\n",
      " [ 6.  7.  8. nan nan nan]\n",
      " [12. 13. 14. 15. 16. 17.]\n",
      " [18. 19. 20. 21. 22. 23.]]\n",
      "temp_col_not_nan\n",
      "[ 3. 15. 21.]\n",
      "temp_col_not_nan\n",
      "[ 4. 16. 22.]\n",
      "temp_col_not_nan\n",
      "[ 5. 17. 23.]\n"
     ]
    },
    {
     "data": {
      "text/plain": "array([[ 0.,  1.,  2.,  3.,  4.,  5.],\n       [ 6.,  7.,  8., 13., 14., 15.],\n       [12., 13., 14., 15., 16., 17.],\n       [18., 19., 20., 21., 22., 23.]])"
     },
     "execution_count": 56,
     "metadata": {},
     "output_type": "execute_result"
    }
   ],
   "source": [
    "t = np.arange(24,dtype=float).reshape(4,6)\n",
    "t[1,3:] = np.nan\n",
    "print(t)\n",
    "for i in range(t.shape[1]):#获取当前列数据\n",
    "    temp_col = t[:,i]\n",
    "    # 判断当前列的数据中是否含有 nan\n",
    "    nan_num = np.count_nonzero(temp_col != temp_col)# 条件成立说明含有 nan\n",
    "    if nan_num != 0:\n",
    "        # 将这一列不为 nan 的数据拿出来\n",
    "        temp_col_not_nan = temp_col[temp_col == temp_col]# 将 nan 替换成这一列的平均值\n",
    "        print('temp_col_not_nan')\n",
    "        print(temp_col_not_nan)\n",
    "        temp_col[np.isnan( temp_col )] = np.mean( temp_col_not_nan )"
   ],
   "metadata": {
    "collapsed": false,
    "pycharm": {
     "name": "#%%\n"
    }
   }
  },
  {
   "cell_type": "code",
   "execution_count": 62,
   "outputs": [
    {
     "ename": "UnicodeDecodeError",
     "evalue": "'gbk' codec can't decode byte 0x94 in position 667: illegal multibyte sequence",
     "output_type": "error",
     "traceback": [
      "\u001B[1;31m---------------------------------------------------------------------------\u001B[0m",
      "\u001B[1;31mUnicodeDecodeError\u001B[0m                        Traceback (most recent call last)",
      "Input \u001B[1;32mIn [62]\u001B[0m, in \u001B[0;36m<cell line: 6>\u001B[1;34m()\u001B[0m\n\u001B[0;32m      4\u001B[0m uk_file_path \u001B[38;5;241m=\u001B[39m \u001B[38;5;124m\"\u001B[39m\u001B[38;5;124m./youtube_video_data/GB_video_data_numbers.csv\u001B[39m\u001B[38;5;124m\"\u001B[39m\n\u001B[0;32m      5\u001B[0m \u001B[38;5;66;03m# t1 = np.loadtxt(us_file_path,delimiter=\",\",dtype=\"int\",unpack=True)\u001B[39;00m\n\u001B[1;32m----> 6\u001B[0m t_us \u001B[38;5;241m=\u001B[39m \u001B[43mnp\u001B[49m\u001B[38;5;241;43m.\u001B[39;49m\u001B[43mloadtxt\u001B[49m\u001B[43m(\u001B[49m\u001B[43mus_file_path\u001B[49m\u001B[43m,\u001B[49m\u001B[43mdelimiter\u001B[49m\u001B[38;5;241;43m=\u001B[39;49m\u001B[38;5;124;43m\"\u001B[39;49m\u001B[38;5;124;43m,\u001B[39;49m\u001B[38;5;124;43m\"\u001B[39;49m\u001B[43m,\u001B[49m\u001B[43mdtype\u001B[49m\u001B[38;5;241;43m=\u001B[39;49m\u001B[38;5;124;43m\"\u001B[39;49m\u001B[38;5;124;43mint\u001B[39;49m\u001B[38;5;124;43m\"\u001B[39;49m\u001B[43m)\u001B[49m\n\u001B[0;32m      7\u001B[0m \u001B[38;5;66;03m#取评论的数据\u001B[39;00m\n\u001B[0;32m      8\u001B[0m t_us_comments \u001B[38;5;241m=\u001B[39m t_us[:,\u001B[38;5;241m-\u001B[39m\u001B[38;5;241m1\u001B[39m]\n",
      "File \u001B[1;32mD:\\Python\\lib\\site-packages\\numpy\\lib\\npyio.py:1301\u001B[0m, in \u001B[0;36mloadtxt\u001B[1;34m(fname, dtype, comments, delimiter, converters, skiprows, usecols, unpack, ndmin, encoding, max_rows, quotechar, like)\u001B[0m\n\u001B[0;32m   1298\u001B[0m \u001B[38;5;28;01mif\u001B[39;00m \u001B[38;5;28misinstance\u001B[39m(delimiter, \u001B[38;5;28mbytes\u001B[39m):\n\u001B[0;32m   1299\u001B[0m     delimiter \u001B[38;5;241m=\u001B[39m delimiter\u001B[38;5;241m.\u001B[39mdecode(\u001B[38;5;124m'\u001B[39m\u001B[38;5;124mlatin1\u001B[39m\u001B[38;5;124m'\u001B[39m)\n\u001B[1;32m-> 1301\u001B[0m arr \u001B[38;5;241m=\u001B[39m \u001B[43m_read\u001B[49m\u001B[43m(\u001B[49m\u001B[43mfname\u001B[49m\u001B[43m,\u001B[49m\u001B[43m \u001B[49m\u001B[43mdtype\u001B[49m\u001B[38;5;241;43m=\u001B[39;49m\u001B[43mdtype\u001B[49m\u001B[43m,\u001B[49m\u001B[43m \u001B[49m\u001B[43mcomment\u001B[49m\u001B[38;5;241;43m=\u001B[39;49m\u001B[43mcomment\u001B[49m\u001B[43m,\u001B[49m\u001B[43m \u001B[49m\u001B[43mdelimiter\u001B[49m\u001B[38;5;241;43m=\u001B[39;49m\u001B[43mdelimiter\u001B[49m\u001B[43m,\u001B[49m\n\u001B[0;32m   1302\u001B[0m \u001B[43m            \u001B[49m\u001B[43mconverters\u001B[49m\u001B[38;5;241;43m=\u001B[39;49m\u001B[43mconverters\u001B[49m\u001B[43m,\u001B[49m\u001B[43m \u001B[49m\u001B[43mskiplines\u001B[49m\u001B[38;5;241;43m=\u001B[39;49m\u001B[43mskiprows\u001B[49m\u001B[43m,\u001B[49m\u001B[43m \u001B[49m\u001B[43musecols\u001B[49m\u001B[38;5;241;43m=\u001B[39;49m\u001B[43musecols\u001B[49m\u001B[43m,\u001B[49m\n\u001B[0;32m   1303\u001B[0m \u001B[43m            \u001B[49m\u001B[43munpack\u001B[49m\u001B[38;5;241;43m=\u001B[39;49m\u001B[43munpack\u001B[49m\u001B[43m,\u001B[49m\u001B[43m \u001B[49m\u001B[43mndmin\u001B[49m\u001B[38;5;241;43m=\u001B[39;49m\u001B[43mndmin\u001B[49m\u001B[43m,\u001B[49m\u001B[43m \u001B[49m\u001B[43mencoding\u001B[49m\u001B[38;5;241;43m=\u001B[39;49m\u001B[43mencoding\u001B[49m\u001B[43m,\u001B[49m\n\u001B[0;32m   1304\u001B[0m \u001B[43m            \u001B[49m\u001B[43mmax_rows\u001B[49m\u001B[38;5;241;43m=\u001B[39;49m\u001B[43mmax_rows\u001B[49m\u001B[43m,\u001B[49m\u001B[43m \u001B[49m\u001B[43mquote\u001B[49m\u001B[38;5;241;43m=\u001B[39;49m\u001B[43mquotechar\u001B[49m\u001B[43m)\u001B[49m\n\u001B[0;32m   1306\u001B[0m \u001B[38;5;28;01mreturn\u001B[39;00m arr\n",
      "File \u001B[1;32mD:\\Python\\lib\\site-packages\\numpy\\lib\\npyio.py:979\u001B[0m, in \u001B[0;36m_read\u001B[1;34m(fname, delimiter, comment, quote, imaginary_unit, usecols, skiplines, max_rows, converters, ndmin, unpack, dtype, encoding)\u001B[0m\n\u001B[0;32m    976\u001B[0m     data \u001B[38;5;241m=\u001B[39m _preprocess_comments(data, comments, encoding)\n\u001B[0;32m    978\u001B[0m \u001B[38;5;28;01mif\u001B[39;00m read_dtype_via_object_chunks \u001B[38;5;129;01mis\u001B[39;00m \u001B[38;5;28;01mNone\u001B[39;00m:\n\u001B[1;32m--> 979\u001B[0m     arr \u001B[38;5;241m=\u001B[39m \u001B[43m_load_from_filelike\u001B[49m\u001B[43m(\u001B[49m\n\u001B[0;32m    980\u001B[0m \u001B[43m        \u001B[49m\u001B[43mdata\u001B[49m\u001B[43m,\u001B[49m\u001B[43m \u001B[49m\u001B[43mdelimiter\u001B[49m\u001B[38;5;241;43m=\u001B[39;49m\u001B[43mdelimiter\u001B[49m\u001B[43m,\u001B[49m\u001B[43m \u001B[49m\u001B[43mcomment\u001B[49m\u001B[38;5;241;43m=\u001B[39;49m\u001B[43mcomment\u001B[49m\u001B[43m,\u001B[49m\u001B[43m \u001B[49m\u001B[43mquote\u001B[49m\u001B[38;5;241;43m=\u001B[39;49m\u001B[43mquote\u001B[49m\u001B[43m,\u001B[49m\n\u001B[0;32m    981\u001B[0m \u001B[43m        \u001B[49m\u001B[43mimaginary_unit\u001B[49m\u001B[38;5;241;43m=\u001B[39;49m\u001B[43mimaginary_unit\u001B[49m\u001B[43m,\u001B[49m\n\u001B[0;32m    982\u001B[0m \u001B[43m        \u001B[49m\u001B[43musecols\u001B[49m\u001B[38;5;241;43m=\u001B[39;49m\u001B[43musecols\u001B[49m\u001B[43m,\u001B[49m\u001B[43m \u001B[49m\u001B[43mskiplines\u001B[49m\u001B[38;5;241;43m=\u001B[39;49m\u001B[43mskiplines\u001B[49m\u001B[43m,\u001B[49m\u001B[43m \u001B[49m\u001B[43mmax_rows\u001B[49m\u001B[38;5;241;43m=\u001B[39;49m\u001B[43mmax_rows\u001B[49m\u001B[43m,\u001B[49m\n\u001B[0;32m    983\u001B[0m \u001B[43m        \u001B[49m\u001B[43mconverters\u001B[49m\u001B[38;5;241;43m=\u001B[39;49m\u001B[43mconverters\u001B[49m\u001B[43m,\u001B[49m\u001B[43m \u001B[49m\u001B[43mdtype\u001B[49m\u001B[38;5;241;43m=\u001B[39;49m\u001B[43mdtype\u001B[49m\u001B[43m,\u001B[49m\n\u001B[0;32m    984\u001B[0m \u001B[43m        \u001B[49m\u001B[43mencoding\u001B[49m\u001B[38;5;241;43m=\u001B[39;49m\u001B[43mencoding\u001B[49m\u001B[43m,\u001B[49m\u001B[43m \u001B[49m\u001B[43mfilelike\u001B[49m\u001B[38;5;241;43m=\u001B[39;49m\u001B[43mfilelike\u001B[49m\u001B[43m,\u001B[49m\n\u001B[0;32m    985\u001B[0m \u001B[43m        \u001B[49m\u001B[43mbyte_converters\u001B[49m\u001B[38;5;241;43m=\u001B[39;49m\u001B[43mbyte_converters\u001B[49m\u001B[43m)\u001B[49m\n\u001B[0;32m    987\u001B[0m \u001B[38;5;28;01melse\u001B[39;00m:\n\u001B[0;32m    988\u001B[0m     \u001B[38;5;66;03m# This branch reads the file into chunks of object arrays and then\u001B[39;00m\n\u001B[0;32m    989\u001B[0m     \u001B[38;5;66;03m# casts them to the desired actual dtype.  This ensures correct\u001B[39;00m\n\u001B[0;32m    990\u001B[0m     \u001B[38;5;66;03m# string-length and datetime-unit discovery (like `arr.astype()`).\u001B[39;00m\n\u001B[0;32m    991\u001B[0m     \u001B[38;5;66;03m# Due to chunking, certain error reports are less clear, currently.\u001B[39;00m\n\u001B[0;32m    992\u001B[0m     \u001B[38;5;28;01mif\u001B[39;00m filelike:\n",
      "\u001B[1;31mUnicodeDecodeError\u001B[0m: 'gbk' codec can't decode byte 0x94 in position 667: illegal multibyte sequence"
     ]
    }
   ],
   "source": [
    "import numpy as np\n",
    "from matplotlib import pyplot as plt\n",
    "us_file_path = \"./youtube_video_data/US_video_data_numbers.csv\"\n",
    "uk_file_path = \"./youtube_video_data/GB_video_data_numbers.csv\"\n",
    "# t1 = np.loadtxt(us_file_path,delimiter=\",\",dtype=\"int\",unpack=True)\n",
    "t_us = np.loadtxt(us_file_path,delimiter=\",\",dtype=\"int\")\n",
    "#取评论的数据\n",
    "t_us_comments = t_us[:,-1]\n",
    "#选择比 5000 小的数据\n",
    "t_us_comments = t_us_comments[t_us_comments<=5000]\n",
    "print(t_us_comments.max(),t_us_comments.min())\n",
    "d = 50\n",
    "bin_nums = (t_us_comments.max()-t_us_comments.min())//d\n",
    "#绘图\n",
    "plt.figure(figsize=(20,8),dpi=80)\n",
    "plt.hist(t_us_comments,bin_nums)\n",
    "plt.show()"
   ],
   "metadata": {
    "collapsed": false,
    "pycharm": {
     "name": "#%%\n"
    }
   }
  }
 ],
 "metadata": {
  "kernelspec": {
   "display_name": "Python 3",
   "language": "python",
   "name": "python3"
  },
  "language_info": {
   "codemirror_mode": {
    "name": "ipython",
    "version": 2
   },
   "file_extension": ".py",
   "mimetype": "text/x-python",
   "name": "python",
   "nbconvert_exporter": "python",
   "pygments_lexer": "ipython2",
   "version": "2.7.6"
  }
 },
 "nbformat": 4,
 "nbformat_minor": 0
}