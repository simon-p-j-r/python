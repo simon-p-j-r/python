{
 "cells": [
  {
   "cell_type": "code",
   "execution_count": 2,
   "metadata": {
    "collapsed": true
   },
   "outputs": [
    {
     "name": "stdout",
     "output_type": "stream",
     "text": [
      "[1 2 3]\n",
      "int64\n",
      "int16\n"
     ]
    }
   ],
   "source": [
    "import numpy as np\n",
    "info = np.array([1, 2, 3], dtype=np.int64)\n",
    "print(info)\n",
    "print(info.dtype)\n",
    "info = info.astype(np.int16)\n",
    "print(info.dtype)"
   ]
  },
  {
   "cell_type": "code",
   "execution_count": 18,
   "outputs": [
    {
     "name": "stdout",
     "output_type": "stream",
     "text": [
      "[[ 0  1  2  3  4  5]\n",
      " [ 6  7  8  9 10 11]\n",
      " [12 13 14 15 16 17]\n",
      " [18 19 20 21 22 23]]\n",
      "[[ 2  3  4  5  6  7]\n",
      " [ 8  9 10 11 12 13]\n",
      " [14 15 16 17 18 19]\n",
      " [20 21 22 23 24 25]]\n",
      "[[ 0  2  4  6  8 10]\n",
      " [ 6  8 10 12 14 16]\n",
      " [12 14 16 18 20 22]\n",
      " [18 20 22 24 26 28]]\n",
      "``````````\n",
      "[[24 26 28 30 32 34]\n",
      " [36 38 40 42 44 46]\n",
      " [48 50 52 54 56 58]\n",
      " [60 62 64 66 68 70]]\n",
      "--------------------------------------------------\n",
      "[[ 0  1  2  3  4  5]\n",
      " [ 6  7  8  9 10 11]\n",
      " [12 13 14 15 16 17]\n",
      " [18 19 20 21 22 23]\n",
      " [24 25 26 27 28 29]\n",
      " [30 31 32 33 34 35]\n",
      " [36 37 38 39 40 41]\n",
      " [42 43 44 45 46 47]]\n",
      "--------------------------------------------------\n",
      "[[ 0  1  2  3  4  5 24 25 26 27 28 29]\n",
      " [ 6  7  8  9 10 11 30 31 32 33 34 35]\n",
      " [12 13 14 15 16 17 36 37 38 39 40 41]\n",
      " [18 19 20 21 22 23 42 43 44 45 46 47]]\n",
      "--------------------------------------------------\n",
      "[[[ 0  1  2  3  4  5]\n",
      "  [ 6  7  8  9 10 11]\n",
      "  [12 13 14 15 16 17]\n",
      "  [18 19 20 21 22 23]]\n",
      "\n",
      " [[24 25 26 27 28 29]\n",
      "  [30 31 32 33 34 35]\n",
      "  [36 37 38 39 40 41]\n",
      "  [42 43 44 45 46 47]]]\n",
      "--------------------------------------------------\n",
      "[[[ 0  1  2  3  4  5]\n",
      "  [24 25 26 27 28 29]]\n",
      "\n",
      " [[ 6  7  8  9 10 11]\n",
      "  [30 31 32 33 34 35]]\n",
      "\n",
      " [[12 13 14 15 16 17]\n",
      "  [36 37 38 39 40 41]]\n",
      "\n",
      " [[18 19 20 21 22 23]\n",
      "  [42 43 44 45 46 47]]]\n",
      "--------------------------------------------------\n",
      "[[ 0  1  2  3  4  5]\n",
      " [ 6  7  8  9 10 11]\n",
      " [12 13 14 15 16 17]\n",
      " [18 19 20 21 22 23]\n",
      " [24 25 26 27 28 29]\n",
      " [30 31 32 33 34 35]\n",
      " [36 37 38 39 40 41]\n",
      " [42 43 44 45 46 47]]\n",
      "--------------------------------------------------\n",
      "[[ 0  1  2  3  4  5 24 25 26 27 28 29]\n",
      " [ 6  7  8  9 10 11 30 31 32 33 34 35]\n",
      " [12 13 14 15 16 17 36 37 38 39 40 41]\n",
      " [18 19 20 21 22 23 42 43 44 45 46 47]]\n"
     ]
    }
   ],
   "source": [
    "info = np.arange(24).reshape(4,6)\n",
    "print(info)\n",
    "print(info + 2)\n",
    "info_test = np.arange(6).reshape(6,)\n",
    "print(info+info_test)\n",
    "info_test = np.arange(24,48).reshape(4,6)\n",
    "print('``````````')\n",
    "print(info+info_test)"
   ],
   "metadata": {
    "collapsed": false,
    "pycharm": {
     "name": "#%%\n"
    }
   }
  },
  {
   "cell_type": "code",
   "execution_count": 73,
   "outputs": [
    {
     "name": "stdout",
     "output_type": "stream",
     "text": [
      "--------------------------------------------------\n",
      "[[500   1   2   3   4   5]\n",
      " [  6   7   8   9  10  11]\n",
      " [ 12  13  14  15  16  17]\n",
      " [ 18  19  20  21  22  23]\n",
      " [ 24  25  26  27  28  29]\n",
      " [ 30  31  32  33  34  35]\n",
      " [ 36  37  38  39  40  41]\n",
      " [ 42  43  44  45  46  47]]\n",
      "--------------------------------------------------\n",
      "[[500   1   2   3   4   5  24  25  26  27  28  29]\n",
      " [  6   7   8   9  10  11  30  31  32  33  34  35]\n",
      " [ 12  13  14  15  16  17  36  37  38  39  40  41]\n",
      " [ 18  19  20  21  22  23  42  43  44  45  46  47]]\n",
      "--------------------------------------------------\n",
      "[[[500   1   2   3   4   5]\n",
      "  [  6   7   8   9  10  11]\n",
      "  [ 12  13  14  15  16  17]\n",
      "  [ 18  19  20  21  22  23]]\n",
      "\n",
      " [[ 24  25  26  27  28  29]\n",
      "  [ 30  31  32  33  34  35]\n",
      "  [ 36  37  38  39  40  41]\n",
      "  [ 42  43  44  45  46  47]]]\n",
      "--------------------------------------------------\n",
      "[[[500   1   2   3   4   5]\n",
      "  [ 24  25  26  27  28  29]]\n",
      "\n",
      " [[  6   7   8   9  10  11]\n",
      "  [ 30  31  32  33  34  35]]\n",
      "\n",
      " [[ 12  13  14  15  16  17]\n",
      "  [ 36  37  38  39  40  41]]\n",
      "\n",
      " [[ 18  19  20  21  22  23]\n",
      "  [ 42  43  44  45  46  47]]]\n",
      "--------------------------------------------------\n",
      "[[500   1   2   3   4   5]\n",
      " [  6   7   8   9  10  11]\n",
      " [ 12  13  14  15  16  17]\n",
      " [ 18  19  20  21  22  23]\n",
      " [ 24  25  26  27  28  29]\n",
      " [ 30  31  32  33  34  35]\n",
      " [ 36  37  38  39  40  41]\n",
      " [ 42  43  44  45  46  47]]\n",
      "--------------------------------------------------\n",
      "[[500   1   2   3   4   5  24  25  26  27  28  29]\n",
      " [  6   7   8   9  10  11  30  31  32  33  34  35]\n",
      " [ 12  13  14  15  16  17  36  37  38  39  40  41]\n",
      " [ 18  19  20  21  22  23  42  43  44  45  46  47]]\n",
      "--------------------------------------------------\n",
      "[500   1   2   3   4   5   6   8   9  10  11  12  13  14  15  16  17  18\n",
      "  19  20  21  22  23]\n",
      "--------------------------------------------------\n",
      "[[500   1   2   3   4   5]\n",
      " [  6   7   8   9  10  11]\n",
      " [ 12  13  14  15  16  17]\n",
      " [ 18  19  20  21  22  23]]\n",
      "[[500   1   2   3   4   5]\n",
      " [  6   7   8   9  10  11]\n",
      " [ 18  19  20  21  22  23]]\n",
      "[[500   1   3   4   5]\n",
      " [  6   7   9  10  11]\n",
      " [ 12  13  15  16  17]\n",
      " [ 18  19  21  22  23]]\n",
      "--------------------------------------------------\n",
      "[[500   1   2   3   4   5]\n",
      " [  6   7   8   9  10  11]\n",
      " [ 12  13  14  15  16  17]\n",
      " [ 18  19  20  21  22  23]]\n",
      "[500   1   1   2   3   4   5   6   7   8   9  10  11  12  13  14  15  16\n",
      "  17  18  19  20  21  22  23]\n",
      "[[500   1   2   3   4   5]\n",
      " [  1   1   1   1   1   1]\n",
      " [  6   7   8   9  10  11]\n",
      " [ 12  13  14  15  16  17]\n",
      " [ 18  19  20  21  22  23]]\n",
      "[[500   1   1   2   3   4   5]\n",
      " [  6   1   7   8   9  10  11]\n",
      " [ 12   1  13  14  15  16  17]\n",
      " [ 18   1  19  20  21  22  23]]\n",
      "[[500   1   2   3   4   5]\n",
      " [  6   7   8   9  10  11]\n",
      " [ 12  13  14  15  16  17]\n",
      " [ 18  19  20  21  22  23]]\n",
      "[array([[500,   1,   2],\n",
      "       [  6,   7,   8],\n",
      "       [ 12,  13,  14],\n",
      "       [ 18,  19,  20]]), array([[ 3,  4,  5],\n",
      "       [ 9, 10, 11],\n",
      "       [15, 16, 17],\n",
      "       [21, 22, 23]])]\n",
      "[array([[500,   1,   2,   3,   4,   5]]), array([[ 6,  7,  8,  9, 10, 11]]), array([[12, 13, 14, 15, 16, 17]]), array([[18, 19, 20, 21, 22, 23]])]\n"
     ]
    }
   ],
   "source": [
    "print('-'*50)\n",
    "print(np.append(info,info_test,axis=0))\n",
    "print('-'*50)\n",
    "print(np.append(info,info_test,axis=1))\n",
    "print('-'*50)\n",
    "print(np.stack((info,info_test),axis=0))\n",
    "print('-'*50)\n",
    "print(np.stack((info,info_test),axis=1))\n",
    "print('-'*50)\n",
    "print(np.concatenate((info,info_test)))\n",
    "print('-'*50)\n",
    "print(np.concatenate((info,info_test),axis=1))\n",
    "print('-'*50)\n",
    "print(np.delete(info, 7))\n",
    "print('-'*50)\n",
    "print(info)\n",
    "print(np.delete(info, 2, axis=0))\n",
    "print(np.delete(info, 2, axis=1))\n",
    "print('-'*50)\n",
    "print(info)\n",
    "print(np.insert(info,1, 1))\n",
    "print(np.insert(info,1, 1,axis=0))\n",
    "print(np.insert(info,1, 1,axis=1))\n",
    "print(info)\n",
    "print(np.split(info,2,axis=1))\n",
    "print(np.split(info,4,axis=0))"
   ],
   "metadata": {
    "collapsed": false,
    "pycharm": {
     "name": "#%%\n"
    }
   }
  },
  {
   "cell_type": "code",
   "execution_count": 43,
   "outputs": [
    {
     "name": "stdout",
     "output_type": "stream",
     "text": [
      "[[ 0  1  2  3  4  5]\n",
      " [ 6  7  8  9 10 11]\n",
      " [12 13 14 15 16 17]\n",
      " [18 19 20 21 22 23]]\n",
      "1\n",
      "[[ 6  7]\n",
      " [18 19]]\n",
      "[[1 1]\n",
      " [6 7]]\n",
      "[[ 1  2]\n",
      " [ 7  8]\n",
      " [13 14]\n",
      " [19 20]]\n",
      "[[ 6  7  8  9 10 11]]\n",
      "[[ 6  7  8  9 10 11]]\n",
      "[[ 1  1  2  3  4  5]\n",
      " [ 0  0  8  9 10 11]\n",
      " [12 13 14 15 16 17]\n",
      " [ 0  0 20 21 22 23]]\n",
      "[[ 1  1  2  3  4  5]\n",
      " [ 1  1  8  9 10 11]\n",
      " [12 13 14 15 16 17]\n",
      " [ 0  0 20 21 22 23]]\n",
      "\n",
      "[[ True  True  True  True  True False]\n",
      " [ True  True False False False False]\n",
      " [False False False False False False]\n",
      " [ True  True False False False False]]\n",
      "[1 1 2 3 4 1 1 0 0]\n",
      "[[ 5  5  5  5  5  5]\n",
      " [ 6  7  8  9 10 11]\n",
      " [12 13 14 15 16 17]\n",
      " [18 19 20 20 20 20]]\n"
     ]
    }
   ],
   "source": [
    "info = np.arange(24).reshape(4,6)\n",
    "print(info)\n",
    "info[0,0] = 1\n",
    "print(info[0,0])\n",
    "print(info[[1, 3],0:2])\n",
    "print(info[0:2,0:2])\n",
    "print(info[:,[1,2]])\n",
    "print(info[1:2,])\n",
    "print(info[1:2])\n",
    "info[[1, 3],0:2] = 0\n",
    "print(info)\n",
    "info[1:2,0:2] = 1\n",
    "print(info)\n",
    "print()\n",
    "print(info<5)\n",
    "print(info[info<5])\n",
    "info = np.arange(24).reshape(4,6)\n",
    "print(info.clip(5, 20))"
   ],
   "metadata": {
    "collapsed": false,
    "pycharm": {
     "name": "#%%\n"
    }
   }
  },
  {
   "cell_type": "code",
   "execution_count": 60,
   "outputs": [
    {
     "name": "stdout",
     "output_type": "stream",
     "text": [
      "[[ 0  1  2  3  4  5]\n",
      " [ 6  7  8  9 10 11]\n",
      " [12 13 14 15 16 17]\n",
      " [18 19 20 21 22 23]]\n",
      "[[ 1  1  2  3  4  5]\n",
      " [ 6  7  8  9 10 11]\n",
      " [12 13 14 15 16 17]\n",
      " [18 19 20 21 22 23]]\n",
      "[ 1  2  3  4  5  6  7  8  9 10 11 12 13 14 15 16 17 18 19 20 21 22 23]\n"
     ]
    }
   ],
   "source": [
    "info = np.arange(24).reshape(4,6)\n",
    "print(info)\n",
    "info[0,0] = 1\n",
    "print(info)\n",
    "info = np.unique(info)\n",
    "print(info)"
   ],
   "metadata": {
    "collapsed": false,
    "pycharm": {
     "name": "#%%\n"
    }
   }
  },
  {
   "cell_type": "code",
   "execution_count": 68,
   "outputs": [
    {
     "name": "stdout",
     "output_type": "stream",
     "text": [
      "500\n",
      "[500  19  20  21  22  23]\n",
      "[500  11  17  23]\n",
      "[[500   3   3   3   4   5]\n",
      " [  6   7   8   9  10  11]\n",
      " [ 12  13  14  15  16  17]\n",
      " [ 18  19  20  21  22  23]]\n",
      "[134.  10.  11.  12.  13.  14.]\n"
     ]
    }
   ],
   "source": [
    "info = np.arange(24).reshape(4,6)\n",
    "info[0,0] = 500\n",
    "print(np.max(info))\n",
    "print(np.max(info,axis=0))\n",
    "print(np.max(info,axis=1))\n",
    "result = np.maximum( info, 3 )\n",
    "print(result)\n",
    "print(np.mean(info,axis=0))"
   ],
   "metadata": {
    "collapsed": false,
    "pycharm": {
     "name": "#%%\n"
    }
   }
  },
  {
   "cell_type": "code",
   "execution_count": 89,
   "outputs": [
    {
     "name": "stdout",
     "output_type": "stream",
     "text": [
      "[[nan  1.  2.  3.  4.  5.]\n",
      " [ 6.  7.  8.  9. 10. 11.]\n",
      " [12. 13. 14. 15. 16. 17.]\n",
      " [18. 19. 20. 21. nan 23.]]\n",
      "[[ True False False False False False]\n",
      " [False False False False False False]\n",
      " [False False False False False False]\n",
      " [False False False False  True False]]\n",
      "2\n",
      "[[12.  1.  2.  3.  4.  5.]\n",
      " [ 6.  7.  8.  9. 10. 11.]\n",
      " [12. 13. 14. 15. 16. 17.]\n",
      " [18. 19. 20. 21. 10. 23.]]\n",
      "[[12.  6. 12. 18.]\n",
      " [ 1.  7. 13. 19.]\n",
      " [ 2.  8. 14. 20.]\n",
      " [ 3.  9. 15. 21.]\n",
      " [ 4. 10. 16. 10.]\n",
      " [ 5. 11. 17. 23.]]\n"
     ]
    }
   ],
   "source": [
    "info = np.arange(24,dtype=float).reshape(4,6)\n",
    "info[0,0] = np.nan\n",
    "info[3,4]= np.nan\n",
    "print(info)\n",
    "print(info != info)\n",
    "print(np.count_nonzero(info[info!=info]))\n",
    "for i in range(info.shape[1]):\n",
    "    num = info[:,i]\n",
    "    tag = np.count_nonzero(num[num!=num])\n",
    "    if tag:\n",
    "        info_not_nan = num[num==num]\n",
    "        average_num = np.mean(info_not_nan)\n",
    "        num[num != num] = average_num\n",
    "print(info)\n",
    "print(info.T)"
   ],
   "metadata": {
    "collapsed": false,
    "pycharm": {
     "name": "#%%\n"
    }
   }
  },
  {
   "cell_type": "code",
   "execution_count": null,
   "outputs": [],
   "source": [
    "import matplotlib.pyplot as plt\n",
    "us_file_path = \"./youtube_video_data/US_video_data_numbers.csv\"\n",
    "uk_file_path = \"./youtube_video_data/GB_video_data_numbers.csv\"\n",
    "t_us = np.loadtxt(us_file_path, delimiter = ',', dtype= 'int')\n",
    "print(t_us)\n",
    "t_us_comments = t_us[:,-1]\n",
    "t_us_comments = t_us_comments[t_us_comments<5000]\n",
    "print(t_us_comments)\n",
    "print(t_us_comments.max(), t_us_comments.min())\n",
    "distance = 50\n",
    "bin_nums = (t_us_comments.max() - t_us_comments.min())//distance\n",
    "plt.figure(figsize=(20, 8), dpi=80)\n",
    "plt.hist(t_us_comments, bin_nums)\n",
    "plt.show()"
   ],
   "metadata": {
    "collapsed": false,
    "pycharm": {
     "name": "#%%\n",
     "is_executing": true
    }
   }
  },
  {
   "cell_type": "code",
   "execution_count": 7,
   "outputs": [
    {
     "data": {
      "text/plain": "<Figure size 1600x640 with 1 Axes>",
      "image/png": "[encoded data removed]"
     },
     "metadata": {
      "needs_background": "light"
     },
     "output_type": "display_data"
    }
   ],
   "source": [
    "us_file_path = \"./youtube_video_data/US_video_data_numbers.csv\"\n",
    "uk_file_path = \"./youtube_video_data/GB_video_data_numbers.csv\"\n",
    "t_uk = np.loadtxt(us_file_path, delimiter = ',', dtype= 'int')\n",
    "t_uk = t_uk[t_uk[:,1]<=500000]\n",
    "t_uk_like=t_uk[:,1]\n",
    "t_uk_comment=t_uk[:,-1]\n",
    "plt.figure(figsize=(20,8),dpi=80)\n",
    "plt.scatter(t_uk_like,t_uk_comment)\n",
    "plt.show()"
   ],
   "metadata": {
    "collapsed": false,
    "pycharm": {
     "name": "#%%\n"
    }
   }
  }
 ],
 "metadata": {
  "kernelspec": {
   "display_name": "Python 3",
   "language": "python",
   "name": "python3"
  },
  "language_info": {
   "codemirror_mode": {
    "name": "ipython",
    "version": 2
   },
   "file_extension": ".py",
   "mimetype": "text/x-python",
   "name": "python",
   "nbconvert_exporter": "python",
   "pygments_lexer": "ipython2",
   "version": "2.7.6"
  }
 },
 "nbformat": 4,
 "nbformat_minor": 0
}